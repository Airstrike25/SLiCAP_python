{
 "cells": [
  {
   "cell_type": "code",
   "execution_count": 1,
   "metadata": {},
   "outputs": [
    {
     "ename": "SyntaxError",
     "evalue": "invalid syntax (SLiCAPini.py, line 462)",
     "output_type": "error",
     "traceback": [
      "\u001b[1;36m  File \u001b[1;32m\"C:\\Users\\luc_e\\Documents\\git\\SLiCAP_python\\SLiCAPini.py\"\u001b[1;36m, line \u001b[1;32m462\u001b[0m\n\u001b[1;33m    print(key, end = '')\u001b[0m\n\u001b[1;37m                   ^\u001b[0m\n\u001b[1;31mSyntaxError\u001b[0m\u001b[1;31m:\u001b[0m invalid syntax\n"
     ]
    }
   ],
   "source": [
    "from SLiCAPnotebook import *\n",
    "# Always run SLiCAP from the project directory, this will use the correct path settings.\n",
    "t1=time()"
   ]
  },
  {
   "cell_type": "code",
   "execution_count": null,
   "metadata": {},
   "outputs": [],
   "source": [
    "prj = initProject('CS stage noise with resistive source')\n",
    "fileName = 'CSresNoise.cir'\n",
    "i1 = instruction()\n",
    "i1.setCircuit(fileName)\n",
    "SVG(filename = img2html('CSresNoise.svg', 800))"
   ]
  },
  {
   "cell_type": "code",
   "execution_count": null,
   "metadata": {},
   "outputs": [],
   "source": [
    "HTML(netlist2html(fileName))"
   ]
  },
  {
   "cell_type": "code",
   "execution_count": null,
   "metadata": {},
   "outputs": [],
   "source": [
    "# Print circuit element data\n",
    "HTML(elementData2html(i1.circuit))"
   ]
  },
  {
   "cell_type": "code",
   "execution_count": null,
   "metadata": {},
   "outputs": [],
   "source": [
    "# Set value of 1/f noise to zero\n",
    "i1.defPar('KF_N18', 0)"
   ]
  },
  {
   "cell_type": "code",
   "execution_count": null,
   "metadata": {},
   "outputs": [],
   "source": [
    "# Get numeric values of 'I_D', 'IC' and 'IC_CRIT'\n",
    "i1.simType = 'numeric'\n",
    "I_D     = i1.getParValue('ID')\n",
    "IC      = i1.getParValue('IC_X1')\n",
    "IC_CRIT = i1.getParValue('IC_CRIT_X1')"
   ]
  },
  {
   "cell_type": "code",
   "execution_count": null,
   "metadata": {},
   "outputs": [],
   "source": [
    "# Define the drain current at critical inversion\n",
    "I_D     = I_D*IC_CRIT/IC\n",
    "i1.defPar('ID', I_D)"
   ]
  },
  {
   "cell_type": "code",
   "execution_count": null,
   "metadata": {},
   "outputs": [],
   "source": [
    "HTML(params2html(i1.circuit))"
   ]
  },
  {
   "cell_type": "code",
   "execution_count": null,
   "metadata": {},
   "outputs": [],
   "source": [
    "R_N   = i1.getParValue('R_N_X1')\n",
    "R_s   = i1.getParValue('R_s')\n",
    "f_T   = i1.getParValue('f_T_X1')\n",
    "g_m   = i1.getParValue('g_m_X1')\n",
    "Width = i1.getParValue('W')"
   ]
  },
  {
   "cell_type": "code",
   "execution_count": null,
   "metadata": {},
   "outputs": [],
   "source": [
    "htmlPage('Noise analysis')"
   ]
  },
  {
   "cell_type": "code",
   "execution_count": null,
   "metadata": {},
   "outputs": [],
   "source": [
    "i1.setSource('V1')\n",
    "i1.setDetector('V_out')\n",
    "i1.setGainType('vi')\n",
    "i1.setDataType('noise')\n",
    "i1.setSimType('numeric')\n",
    "noise_result = i1.execute()\n",
    "plotSweep('Inoise', 'Source-referred noise spectrum', noise_result, 1e8, 1e11, 100, funcType = 'inoise', show=True)"
   ]
  },
  {
   "cell_type": "code",
   "execution_count": null,
   "metadata": {},
   "outputs": [],
   "source": [
    "# Calculate the noise figure at critical inversion and the given width\n",
    "tot_inoise     = rmsNoise(noise_result, 'inoise', 1e9, 5e9)\n",
    "tot_inoise_src = rmsNoise(noise_result, 'inoise', 1e9, 5e9, source = noise_result.source)\n",
    "HTML(noise2html(noise_result))"
   ]
  },
  {
   "cell_type": "code",
   "execution_count": null,
   "metadata": {},
   "outputs": [],
   "source": [
    "NF           = 20*sp.log(tot_inoise/tot_inoise_src)/sp.log(10)\n",
    "print(\"The noise figure equals: %s [dB].\"%(sp.N(NF, ini.disp)))"
   ]
  },
  {
   "cell_type": "code",
   "execution_count": null,
   "metadata": {},
   "outputs": [],
   "source": [
    "# We will now calculate the width W at which we will have the best noise performance.\n",
    "# Define the variable 'W' in the notebook environment\n",
    "W               = sp.Symbol('W', positive = True)\n",
    "i1.delPar('W')        # delete the numeric definition of the width\n",
    "# We will keep the inversion coefficient at critical inversion, hence we scale the\n",
    "# current with the width.\n",
    "# Please know that not scaling the current results in expressions that cannot be integrated symbolically.\n",
    "# We will then need numeric methods for determination of the optimum width.\n",
    "i1.defPar('ID', I_D*W/Width)\n",
    "noise_w = i1.execute() # calculate the noise spectra as a function of W and f\n",
    "# Calculate the noise figure as a function of W over a frequency range from 'fmin' to 'fmax':\n",
    "f_min = sp.Symbol('f_min', positive = True)\n",
    "f_max = sp.Symbol('f_max', positive = True)\n",
    "rms_noise_w        = rmsNoise(noise_w, 'inoise', f_min, f_max)\n",
    "rms_noise_w_source = rmsNoise(noise_w, 'inoise', f_min, f_max, noise_w.source)\n",
    "# We will now calculate the noise figure as a function of 'W', 'f_min' and 'f_max':\n",
    "# We will use the variance instead of the RMS value:\n",
    "NF_W            = assumePosParams((rms_noise_w/rms_noise_w_source)**2)\n",
    "# We will now calculate the optimum width as a function of 'fmin' and 'fmax':\n",
    "W_opt           = sp.solve(sp.diff(NF_W, W), W)\n",
    "# The sympy solve function returns a list with solutions, we will print the ones\n",
    "# that are positive over the frequency range of interest.\n",
    "for w in W_opt:\n",
    "    w = sp.N(w.subs([(f_min, 1e9), (f_max, 5e9)]), ini.disp)\n",
    "    if w > 0:\n",
    "        print(w)"
   ]
  },
  {
   "cell_type": "code",
   "execution_count": null,
   "metadata": {},
   "outputs": [],
   "source": [
    "# The noise figure over the frequency range of interest, as a function of the width is:\n",
    "HTML('$' + sp.latex(roundN(sp.expand(NF_W.subs([(f_min, 1e9), (f_max, 5e9)])))) + '$')"
   ]
  },
  {
   "cell_type": "code",
   "execution_count": null,
   "metadata": {},
   "outputs": [],
   "source": [
    "# Create a plot of the noise figure versus the with for different values of f_max and f_min = 1G\n",
    "# Define the plot parameters, 'fw', 'W' and 'fmax'\n",
    "i1.defPar('W', w)\n",
    "i1.defPar('f_max', '10G')\n",
    "i1.defPar('NF', 10*sp.log(NF_W.subs([(f_min, 2e8)]))/sp.log(10))\n",
    "# Define the step parameters\n",
    "i1.setStepVar('f_max')\n",
    "i1.setStepStart('2G')\n",
    "i1.setStepStop('10G')\n",
    "i1.setStepMethod('lin')\n",
    "i1.setSimType('numeric')\n",
    "i1.setStepNum(5)\n",
    "i1.stepOn()\n",
    "result = i1.execute()\n",
    "# Plot the function\n",
    "fig_NF_W = plotSweep('NF_W', 'Noise Figure versus width, $f_{min}$ = 200MHz', result, 10, 200, 50, sweepVar = 'W', sweepScale = 'u', funcType = 'param', xUnits = 'm', yVar = 'NF', yUnits = 'dB', show = True)\n",
    "t2 = time()\n",
    "print(t2-t1, 's')"
   ]
  }
 ],
 "metadata": {
  "kernelspec": {
   "display_name": "Python 3",
   "language": "python",
   "name": "python3"
  },
  "language_info": {
   "codemirror_mode": {
    "name": "ipython",
    "version": 3
   },
   "file_extension": ".py",
   "mimetype": "text/x-python",
   "name": "python",
   "nbconvert_exporter": "python",
   "pygments_lexer": "ipython3",
   "version": "3.7.6"
  }
 },
 "nbformat": 4,
 "nbformat_minor": 4
}
