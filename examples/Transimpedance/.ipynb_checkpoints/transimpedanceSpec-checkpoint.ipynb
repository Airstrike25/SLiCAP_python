{
 "cells": [
  {
   "cell_type": "code",
   "execution_count": null,
   "metadata": {},
   "outputs": [],
   "source": [
    "from SLiCAPnotebook import *\n",
    "prj = initProject('Transimpedance')\n",
    "instr = instruction()\n",
    "instr.setCircuit('transimpedanceSpec.cir')"
   ]
  },
  {
   "cell_type": "markdown",
   "metadata": {},
   "source": [
    "htmlPage('Application and specifications')\n",
    "HTML(file2html('applicationDescription.txt'))"
   ]
  },
  {
   "cell_type": "code",
   "execution_count": null,
   "metadata": {},
   "outputs": [],
   "source": []
  }
 ],
 "metadata": {
  "kernelspec": {
   "display_name": "Python 2",
   "language": "python",
   "name": "python2"
  },
  "language_info": {
   "codemirror_mode": {
    "name": "ipython",
    "version": 2
   },
   "file_extension": ".py",
   "mimetype": "text/x-python",
   "name": "python",
   "nbconvert_exporter": "python",
   "pygments_lexer": "ipython2",
   "version": "2.7.17"
  }
 },
 "nbformat": 4,
 "nbformat_minor": 2
}
