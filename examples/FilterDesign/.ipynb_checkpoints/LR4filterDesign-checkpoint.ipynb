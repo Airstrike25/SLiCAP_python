{
 "cells": [
  {
   "cell_type": "code",
   "execution_count": null,
   "metadata": {},
   "outputs": [],
   "source": [
    "from SLiCAP.SLiCAPnotebook import *\n",
    "t1 = time()\n",
    "\n",
    "prj = initProject('4-th order Linkwitz-Riley Filter') \n",
    "                             # Creates the SLiCAP libraries and the\n",
    "                             # project HTML index page\n",
    "fileName = 'LowPassLR.cir'\n",
    "i1 = instruction()           # Creates an instance of an instruction object\n",
    "i1.setCircuit(fileName)      # Checks and defines the local circuit object and\n",
    "                             # resets the index page to the project index page\n",
    "SVG('img/LowPassLR.svg')"
   ]
  },
  {
   "cell_type": "code",
   "execution_count": null,
   "metadata": {},
   "outputs": [],
   "source": [
    "# Calculate the symbolic transfer of the filter circuit                             \n",
    "i1.setSource('V1')\n",
    "i1.setDetector('V_out')\n",
    "i1.setSimType('symbolic')\n",
    "i1.setGainType('gain')\n",
    "i1.setDataType('laplace')\n",
    "resultLapl  = i1.execute()\n",
    "transfer    = resultLapl.laplace\n",
    "HTML('$$' + sp.latex(transfer) + '$$')"
   ]
  },
  {
   "cell_type": "code",
   "execution_count": null,
   "metadata": {},
   "outputs": [],
   "source": [
    "# Define the prototype filter\n",
    "protoType   = sp.sympify('1/(1 + sqrt(2)*s/2/pi/f_o + (s/2/pi/f_o)^2)^2')\n",
    "HTML('$$' + sp.latex(protoType) + '$$')"
   ]
  },
  {
   "cell_type": "code",
   "execution_count": null,
   "metadata": {},
   "outputs": [],
   "source": [
    "# Determine the component values for a given cross-over frequency\n",
    "# Define the cross-over frequency of the filter\n",
    "f_o         = sp.Symbol('f_o')\n",
    "protoType   = protoType.subs(f_o, 2000)\n",
    "# Calculate the circuit parameters\n",
    "paramValues  = equateCoeffs(protoType, transfer, noSolve = [f_o])\n",
    "print(paramValues)"
   ]
  },
  {
   "cell_type": "code",
   "execution_count": null,
   "metadata": {},
   "outputs": [],
   "source": [
    "# Obtain the numeric element values\n",
    "# Define the circuit parameters\n",
    "i1.defPars(paramValues)\n",
    "i1.setSimType('numeric')\n",
    "elementValues = i1.getElementValue(['C1', 'C2', 'L1', 'L2'])\n",
    "print(elementValues)"
   ]
  },
  {
   "cell_type": "code",
   "execution_count": null,
   "metadata": {},
   "outputs": [],
   "source": [
    "# Verify the behavior\n",
    "i1.gainType = 'gain'\n",
    "i1.dataType = 'laplace'\n",
    "result      = i1.execute()\n",
    "# Generate the Bode plots\n",
    "figdBmag    = plotSweep('LR4dBmag', 'dB magnitude characteristic', result, 0.02, 20, 100, sweepScale='k', show=True)\n",
    "figPgase    = plotSweep('LR4phase', 'phase characteristic', result, 0.02, 20, 100, funcType = 'phase', sweepScale='k', show=True)"
   ]
  },
  {
   "cell_type": "code",
   "execution_count": null,
   "metadata": {},
   "outputs": [],
   "source": [
    "# Generate a report and display the element values\n",
    "\n",
    "htmlPage('Circuit Data')\n",
    "head2html('Circuit diagram of the pototype filter')\n",
    "img2html('LowPassLR.svg', 400)\n",
    "netlist2html(fileName)\n",
    "HTML(elementData2html(i1.circuit))"
   ]
  },
  {
   "cell_type": "code",
   "execution_count": null,
   "metadata": {},
   "outputs": [],
   "source": [
    "params2html(i1.circuit)\n",
    "\n",
    "htmlPage('Report')\n",
    "\n",
    "head2html('Prototype function')\n",
    "eqn2html('P_s', protoType)\n",
    "\n",
    "head2html('Circuit implementation')\n",
    "img2html('LowPassLR.svg', 400)\n",
    "\n",
    "head2html('Transfer of the network')\n",
    "eqn2html('T_s', transfer)\n",
    "\n",
    "head2html('Component values')\n",
    "for key in list(paramValues.keys()):\n",
    "    eqn2html(key, paramValues[key])\n",
    "elementData2html(i1.circuit)  \n",
    "params2html(i1.circuit)\n",
    "\n",
    "head2html('Plots')\n",
    "fig2html(figdBmag, 600, caption='dB magnitude of the LR4 filter transfer.')  \n",
    "fig2html(figPgase, 600, caption='phase plot of the LR4 filter transfer.')    "
   ]
  },
  {
   "cell_type": "code",
   "execution_count": null,
   "metadata": {},
   "outputs": [],
   "source": [
    "# Print the total time\n",
    "t2 = time()\n",
    "print(t2-t1, 's')"
   ]
  }
 ],
 "metadata": {
  "kernelspec": {
   "display_name": "Python 3",
   "language": "python",
   "name": "python3"
  },
  "language_info": {
   "codemirror_mode": {
    "name": "ipython",
    "version": 3
   },
   "file_extension": ".py",
   "mimetype": "text/x-python",
   "name": "python",
   "nbconvert_exporter": "python",
   "pygments_lexer": "ipython3",
   "version": "3.7.6"
  }
 },
 "nbformat": 4,
 "nbformat_minor": 4
}
