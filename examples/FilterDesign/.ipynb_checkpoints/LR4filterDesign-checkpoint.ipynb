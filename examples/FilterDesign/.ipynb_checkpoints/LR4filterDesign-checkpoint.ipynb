{
 "cells": [
  {
   "cell_type": "code",
   "execution_count": 1,
   "metadata": {},
   "outputs": [
    {
     "name": "stdout",
     "output_type": "stream",
     "text": [
      "Succesfully self-tested the Maxima command\n",
      "Could not access github to fetch the latest version\n",
      "SLiCAP Version matches with the latest release of SLiCAP on github.\n"
     ]
    },
    {
     "ename": "FileNotFoundError",
     "evalue": "[Errno 2] No such file or directory: 'C:\\\\Users\\\\luc_e\\\\Documents\\\\git\\\\SLiCAP_python\\\\/SLiCAPconfig/SLiCAPconfig.py'",
     "output_type": "error",
     "traceback": [
      "\u001b[1;31m---------------------------------------------------------------------------\u001b[0m",
      "\u001b[1;31mFileNotFoundError\u001b[0m                         Traceback (most recent call last)",
      "\u001b[1;32m<ipython-input-1-23dcff830021>\u001b[0m in \u001b[0;36m<module>\u001b[1;34m\u001b[0m\n\u001b[0;32m      3\u001b[0m \u001b[0mt1\u001b[0m \u001b[1;33m=\u001b[0m \u001b[0mtime\u001b[0m\u001b[1;33m(\u001b[0m\u001b[1;33m)\u001b[0m\u001b[1;33m\u001b[0m\u001b[1;33m\u001b[0m\u001b[0m\n\u001b[0;32m      4\u001b[0m \u001b[1;33m\u001b[0m\u001b[0m\n\u001b[1;32m----> 5\u001b[1;33m \u001b[0mprj\u001b[0m \u001b[1;33m=\u001b[0m \u001b[0minitProject\u001b[0m\u001b[1;33m(\u001b[0m\u001b[1;34m'4-th order Linkwitz-Riley Filter'\u001b[0m\u001b[1;33m)\u001b[0m\u001b[1;33m\u001b[0m\u001b[1;33m\u001b[0m\u001b[0m\n\u001b[0m\u001b[0;32m      6\u001b[0m                              \u001b[1;31m# Creates the SLiCAP libraries and the\u001b[0m\u001b[1;33m\u001b[0m\u001b[1;33m\u001b[0m\u001b[1;33m\u001b[0m\u001b[0m\n\u001b[0;32m      7\u001b[0m                              \u001b[1;31m# project HTML index page\u001b[0m\u001b[1;33m\u001b[0m\u001b[1;33m\u001b[0m\u001b[1;33m\u001b[0m\u001b[0m\n",
      "\u001b[1;32m~\\AppData\\Roaming\\Python\\Python37\\site-packages\\SLiCAP\\SLiCAP.py\u001b[0m in \u001b[0;36minitProject\u001b[1;34m(name, firstRun)\u001b[0m\n\u001b[0;32m     64\u001b[0m     \u001b[0mini\u001b[0m\u001b[1;33m.\u001b[0m\u001b[0mlastUpdate\u001b[0m \u001b[1;33m=\u001b[0m \u001b[0mprj\u001b[0m\u001b[1;33m.\u001b[0m\u001b[0mlastUpdate\u001b[0m\u001b[1;33m\u001b[0m\u001b[1;33m\u001b[0m\u001b[0m\n\u001b[0;32m     65\u001b[0m     \u001b[1;32mif\u001b[0m \u001b[1;32mnot\u001b[0m \u001b[0mos\u001b[0m\u001b[1;33m.\u001b[0m\u001b[0mpath\u001b[0m\u001b[1;33m.\u001b[0m\u001b[0mexists\u001b[0m\u001b[1;33m(\u001b[0m\u001b[0mini\u001b[0m\u001b[1;33m.\u001b[0m\u001b[0mprojectPath\u001b[0m \u001b[1;33m+\u001b[0m \u001b[1;34m'SLiCAPconfig.py'\u001b[0m\u001b[1;33m)\u001b[0m\u001b[1;33m:\u001b[0m\u001b[1;33m\u001b[0m\u001b[1;33m\u001b[0m\u001b[0m\n\u001b[1;32m---> 66\u001b[1;33m         \u001b[0mf\u001b[0m \u001b[1;33m=\u001b[0m \u001b[0mopen\u001b[0m\u001b[1;33m(\u001b[0m\u001b[0mini\u001b[0m\u001b[1;33m.\u001b[0m\u001b[0minstallPath\u001b[0m \u001b[1;33m+\u001b[0m \u001b[1;34m'/SLiCAPconfig/SLiCAPconfig.py'\u001b[0m\u001b[1;33m,\u001b[0m \u001b[1;34m'r'\u001b[0m\u001b[1;33m)\u001b[0m\u001b[1;33m\u001b[0m\u001b[1;33m\u001b[0m\u001b[0m\n\u001b[0m\u001b[0;32m     67\u001b[0m         \u001b[0mtxt\u001b[0m \u001b[1;33m=\u001b[0m \u001b[0mf\u001b[0m\u001b[1;33m.\u001b[0m\u001b[0mread\u001b[0m\u001b[1;33m(\u001b[0m\u001b[1;33m)\u001b[0m\u001b[1;33m\u001b[0m\u001b[1;33m\u001b[0m\u001b[0m\n\u001b[0;32m     68\u001b[0m         \u001b[0mf\u001b[0m\u001b[1;33m.\u001b[0m\u001b[0mclose\u001b[0m\u001b[1;33m(\u001b[0m\u001b[1;33m)\u001b[0m\u001b[1;33m\u001b[0m\u001b[1;33m\u001b[0m\u001b[0m\n",
      "\u001b[1;31mFileNotFoundError\u001b[0m: [Errno 2] No such file or directory: 'C:\\\\Users\\\\luc_e\\\\Documents\\\\git\\\\SLiCAP_python\\\\/SLiCAPconfig/SLiCAPconfig.py'"
     ]
    }
   ],
   "source": [
    "from SLiCAP.SLiCAPnotebook import *\n",
    "t1 = time()\n",
    "\n",
    "prj = initProject('4-th order Linkwitz-Riley Filter') \n",
    "                             # Creates the SLiCAP libraries and the\n",
    "                             # project HTML index page\n",
    "fileName = 'LowPassLR.cir'\n",
    "i1 = instruction()           # Creates an instance of an instruction object\n",
    "i1.setCircuit(fileName)      # Checks and defines the local circuit object and\n",
    "                             # resets the index page to the project index page\n",
    "SVG('img/LowPassLR.svg')"
   ]
  },
  {
   "cell_type": "code",
   "execution_count": null,
   "metadata": {},
   "outputs": [],
   "source": [
    "# Calculate the symbolic transfer of the filter circuit                             \n",
    "i1.setSource('V1')\n",
    "i1.setDetector('V_out')\n",
    "i1.setSimType('symbolic')\n",
    "i1.setGainType('gain')\n",
    "i1.setDataType('laplace')\n",
    "resultLapl  = i1.execute()\n",
    "transfer    = resultLapl.laplace\n",
    "HTML('$$' + sp.latex(transfer) + '$$')"
   ]
  },
  {
   "cell_type": "code",
   "execution_count": null,
   "metadata": {},
   "outputs": [],
   "source": [
    "# Define the prototype filter\n",
    "protoType   = sp.sympify('1/(1 + sqrt(2)*s/2/pi/f_o + (s/2/pi/f_o)^2)^2')\n",
    "HTML('$$' + sp.latex(protoType) + '$$')"
   ]
  },
  {
   "cell_type": "code",
   "execution_count": null,
   "metadata": {},
   "outputs": [],
   "source": [
    "# Determine the component values for a given cross-over frequency\n",
    "# Define the cross-over frequency of the filter\n",
    "f_o         = sp.Symbol('f_o')\n",
    "protoType   = protoType.subs(f_o, 2000)\n",
    "# Calculate the circuit parameters\n",
    "paramValues  = equateCoeffs(protoType, transfer, noSolve = [f_o])\n",
    "print(paramValues)"
   ]
  },
  {
   "cell_type": "code",
   "execution_count": null,
   "metadata": {},
   "outputs": [],
   "source": [
    "# Obtain the numeric element values\n",
    "# Define the circuit parameters\n",
    "i1.defPars(paramValues)\n",
    "i1.setSimType('numeric')\n",
    "elementValues = i1.getElementValue(['C1', 'C2', 'L1', 'L2'])\n",
    "print(elementValues)"
   ]
  },
  {
   "cell_type": "code",
   "execution_count": null,
   "metadata": {},
   "outputs": [],
   "source": [
    "# Verify the behavior\n",
    "i1.gainType = 'gain'\n",
    "i1.dataType = 'laplace'\n",
    "result      = i1.execute()\n",
    "# Generate the Bode plots\n",
    "figdBmag    = plotSweep('LR4dBmag', 'dB magnitude characteristic', result, 0.02, 20, 100, sweepScale='k', show=True)\n",
    "figPgase    = plotSweep('LR4phase', 'phase characteristic', result, 0.02, 20, 100, funcType = 'phase', sweepScale='k', show=True)"
   ]
  },
  {
   "cell_type": "code",
   "execution_count": null,
   "metadata": {},
   "outputs": [],
   "source": [
    "# Generate a report and display the element values\n",
    "\n",
    "htmlPage('Circuit Data')\n",
    "head2html('Circuit diagram of the pototype filter')\n",
    "img2html('LowPassLR.svg', 400)\n",
    "netlist2html(fileName)\n",
    "HTML(elementData2html(i1.circuit))"
   ]
  },
  {
   "cell_type": "code",
   "execution_count": null,
   "metadata": {},
   "outputs": [],
   "source": [
    "params2html(i1.circuit)\n",
    "\n",
    "htmlPage('Report')\n",
    "\n",
    "head2html('Prototype function')\n",
    "eqn2html('P_s', protoType)\n",
    "\n",
    "head2html('Circuit implementation')\n",
    "img2html('LowPassLR.svg', 400)\n",
    "\n",
    "head2html('Transfer of the network')\n",
    "eqn2html('T_s', transfer)\n",
    "\n",
    "head2html('Component values')\n",
    "for key in list(paramValues.keys()):\n",
    "    eqn2html(key, paramValues[key])\n",
    "elementData2html(i1.circuit)  \n",
    "params2html(i1.circuit)\n",
    "\n",
    "head2html('Plots')\n",
    "fig2html(figdBmag, 600, caption='dB magnitude of the LR4 filter transfer.')  \n",
    "fig2html(figPgase, 600, caption='phase plot of the LR4 filter transfer.')    "
   ]
  },
  {
   "cell_type": "code",
   "execution_count": null,
   "metadata": {},
   "outputs": [],
   "source": [
    "# Print the total time\n",
    "t2 = time()\n",
    "print(t2-t1, 's')"
   ]
  }
 ],
 "metadata": {
  "kernelspec": {
   "display_name": "Python 3",
   "language": "python",
   "name": "python3"
  },
  "language_info": {
   "codemirror_mode": {
    "name": "ipython",
    "version": 3
   },
   "file_extension": ".py",
   "mimetype": "text/x-python",
   "name": "python",
   "nbconvert_exporter": "python",
   "pygments_lexer": "ipython3",
   "version": "3.7.6"
  }
 },
 "nbformat": 4,
 "nbformat_minor": 4
}
