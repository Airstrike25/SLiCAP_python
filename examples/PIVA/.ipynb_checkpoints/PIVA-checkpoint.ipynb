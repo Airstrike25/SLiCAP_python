{
 "cells": [
  {
   "cell_type": "code",
   "execution_count": 9,
   "metadata": {
    "slideshow": {
     "slide_type": "slide"
    }
   },
   "outputs": [],
   "source": [
    "from SLiCAPnotebook import *\n",
    "# Always run SLiCAP from the project directory, this will use the correct path settings.\n",
    "t1=time()"
   ]
  },
  {
   "cell_type": "code",
   "execution_count": 12,
   "metadata": {
    "slideshow": {
     "slide_type": "slide"
    }
   },
   "outputs": [
    {
     "ename": "NameError",
     "evalue": "name 'lexer' is not defined",
     "output_type": "error",
     "traceback": [
      "\u001b[0;31m---------------------------------------------------------------------------\u001b[0m",
      "\u001b[0;31mNameError\u001b[0m                                 Traceback (most recent call last)",
      "\u001b[0;32m<ipython-input-12-9d88a1dd948a>\u001b[0m in \u001b[0;36m<module>\u001b[0;34m\u001b[0m\n\u001b[0;32m----> 1\u001b[0;31m \u001b[0mprj\u001b[0m \u001b[0;34m=\u001b[0m \u001b[0minitProject\u001b[0m\u001b[0;34m(\u001b[0m\u001b[0;34m'My first SLiCAP project'\u001b[0m\u001b[0;34m)\u001b[0m \u001b[0;31m# Sets all the paths and creates the HTML main index page.\u001b[0m\u001b[0;34m\u001b[0m\u001b[0;34m\u001b[0m\u001b[0m\n\u001b[0m\u001b[1;32m      2\u001b[0m \u001b[0;34m\u001b[0m\u001b[0m\n\u001b[1;32m      3\u001b[0m \u001b[0mfileName\u001b[0m \u001b[0;34m=\u001b[0m \u001b[0;34m'PIVA.cir'\u001b[0m\u001b[0;34m\u001b[0m\u001b[0;34m\u001b[0m\u001b[0m\n\u001b[1;32m      4\u001b[0m \u001b[0mi1\u001b[0m \u001b[0;34m=\u001b[0m \u001b[0minstruction\u001b[0m\u001b[0;34m(\u001b[0m\u001b[0;34m)\u001b[0m                           \u001b[0;31m# Creates an instance of an instruction object\u001b[0m\u001b[0;34m\u001b[0m\u001b[0;34m\u001b[0m\u001b[0m\n\u001b[1;32m      5\u001b[0m \u001b[0mi1\u001b[0m\u001b[0;34m.\u001b[0m\u001b[0msetCircuit\u001b[0m\u001b[0;34m(\u001b[0m\u001b[0mfileName\u001b[0m\u001b[0;34m)\u001b[0m                      \u001b[0;31m# Checks and defines the local circuit object and\u001b[0m\u001b[0;34m\u001b[0m\u001b[0;34m\u001b[0m\u001b[0m\n",
      "\u001b[0;32m~/Documents/SED/SLiCAP_python/SLiCAP.py\u001b[0m in \u001b[0;36minitProject\u001b[0;34m(name)\u001b[0m\n\u001b[1;32m     99\u001b[0m     \u001b[0mstartHTML\u001b[0m\u001b[0;34m(\u001b[0m\u001b[0mname\u001b[0m\u001b[0;34m)\u001b[0m\u001b[0;34m\u001b[0m\u001b[0;34m\u001b[0m\u001b[0m\n\u001b[1;32m    100\u001b[0m     \u001b[0;31m# Create the libraries\u001b[0m\u001b[0;34m\u001b[0m\u001b[0;34m\u001b[0m\u001b[0;34m\u001b[0m\u001b[0m\n\u001b[0;32m--> 101\u001b[0;31m     \u001b[0;31m# makeLibraries()\u001b[0m\u001b[0;34m\u001b[0m\u001b[0;34m\u001b[0m\u001b[0;34m\u001b[0m\u001b[0m\n\u001b[0m\u001b[1;32m    102\u001b[0m     \u001b[0;32mreturn\u001b[0m \u001b[0mprj\u001b[0m\u001b[0;34m\u001b[0m\u001b[0;34m\u001b[0m\u001b[0m\n\u001b[1;32m    103\u001b[0m \u001b[0;34m\u001b[0m\u001b[0m\n",
      "\u001b[0;32m~/Documents/SED/SLiCAP_python/SLiCAPyacc.py\u001b[0m in \u001b[0;36mmakeLibraries\u001b[0;34m()\u001b[0m\n\u001b[1;32m    841\u001b[0m     \u001b[0mLIB\u001b[0m \u001b[0;34m=\u001b[0m \u001b[0mcircuit\u001b[0m\u001b[0;34m(\u001b[0m\u001b[0;34m)\u001b[0m\u001b[0;34m\u001b[0m\u001b[0;34m\u001b[0m\u001b[0m\n\u001b[1;32m    842\u001b[0m     \u001b[0mLIB\u001b[0m\u001b[0;34m.\u001b[0m\u001b[0mfile\u001b[0m \u001b[0;34m=\u001b[0m \u001b[0mfileName\u001b[0m\u001b[0;34m\u001b[0m\u001b[0;34m\u001b[0m\u001b[0m\n\u001b[0;32m--> 843\u001b[0;31m     \u001b[0mLIB\u001b[0m\u001b[0;34m.\u001b[0m\u001b[0mlexer\u001b[0m \u001b[0;34m=\u001b[0m \u001b[0mtokenize\u001b[0m\u001b[0;34m(\u001b[0m\u001b[0mfileName\u001b[0m\u001b[0;34m)\u001b[0m\u001b[0;34m\u001b[0m\u001b[0;34m\u001b[0m\u001b[0m\n\u001b[0m\u001b[1;32m    844\u001b[0m     \u001b[0mLIB\u001b[0m \u001b[0;34m=\u001b[0m \u001b[0mmakeCircuit\u001b[0m\u001b[0;34m(\u001b[0m\u001b[0mLIB\u001b[0m\u001b[0;34m)\u001b[0m\u001b[0;34m\u001b[0m\u001b[0;34m\u001b[0m\u001b[0m\n\u001b[1;32m    845\u001b[0m     \u001b[0;32mif\u001b[0m \u001b[0mLIB\u001b[0m\u001b[0;34m.\u001b[0m\u001b[0merrors\u001b[0m \u001b[0;34m!=\u001b[0m \u001b[0;36m0\u001b[0m\u001b[0;34m:\u001b[0m\u001b[0;34m\u001b[0m\u001b[0;34m\u001b[0m\u001b[0m\n",
      "\u001b[0;32m~/Documents/SED/SLiCAP_python/SLiCAPlex.py\u001b[0m in \u001b[0;36mtokenize\u001b[0;34m(cirFileName)\u001b[0m\n\u001b[1;32m    205\u001b[0m     \u001b[0;34m:\u001b[0m\u001b[0mrtype\u001b[0m\u001b[0;34m:\u001b[0m \u001b[0mply\u001b[0m\u001b[0;34m.\u001b[0m\u001b[0mlex\u001b[0m\u001b[0;34m.\u001b[0m\u001b[0mlex\u001b[0m\u001b[0;34m\u001b[0m\u001b[0;34m\u001b[0m\u001b[0m\n\u001b[1;32m    206\u001b[0m     \"\"\"\n\u001b[0;32m--> 207\u001b[0;31m     \u001b[0mlexer\u001b[0m\u001b[0;34m.\u001b[0m\u001b[0merrCount\u001b[0m \u001b[0;34m=\u001b[0m \u001b[0;36m0\u001b[0m\u001b[0;34m\u001b[0m\u001b[0;34m\u001b[0m\u001b[0m\n\u001b[0m\u001b[1;32m    208\u001b[0m     \u001b[0mlexer\u001b[0m\u001b[0;34m.\u001b[0m\u001b[0mlineno\u001b[0m \u001b[0;34m=\u001b[0m \u001b[0;36m0\u001b[0m\u001b[0;34m\u001b[0m\u001b[0;34m\u001b[0m\u001b[0m\n\u001b[1;32m    209\u001b[0m     \u001b[0mf\u001b[0m \u001b[0;34m=\u001b[0m \u001b[0mopen\u001b[0m\u001b[0;34m(\u001b[0m\u001b[0mcirFileName\u001b[0m\u001b[0;34m,\u001b[0m \u001b[0;34m'r'\u001b[0m\u001b[0;34m)\u001b[0m\u001b[0;34m\u001b[0m\u001b[0;34m\u001b[0m\u001b[0m\n",
      "\u001b[0;31mNameError\u001b[0m: name 'lexer' is not defined"
     ]
    }
   ],
   "source": [
    "prj = initProject('My first SLiCAP project') # Sets all the paths and creates the HTML main index page.\n",
    "\n",
    "fileName = 'PIVA.cir'\n",
    "i1 = instruction()                           # Creates an instance of an instruction object\n",
    "i1.setCircuit(fileName)                      # Checks and defines the local circuit object and\n",
    "                                             # sets the index page to the circuit index page\n",
    "\n",
    "i1.defPar('C_ph', '2.95p')                   # Correct value for frequency compenmsation\n",
    "\n",
    "# Generate HTML report.                          \n",
    "htmlPage('Circuit data')                     # Creates an HTML page and a link on the index page of this circuit"
   ]
  },
  {
   "cell_type": "code",
   "execution_count": null,
   "metadata": {},
   "outputs": [],
   "source": [
    "SVG(filename=img2html('PIVA.svg', 800))"
   ]
  },
  {
   "cell_type": "code",
   "execution_count": null,
   "metadata": {},
   "outputs": [],
   "source": [
    "HTML(netlist2html(fileName, label = 'netlist'))"
   ]
  },
  {
   "cell_type": "code",
   "execution_count": null,
   "metadata": {},
   "outputs": [],
   "source": [
    "HTML(elementData2html(i1.circuit, label = 'elementData'))"
   ]
  },
  {
   "cell_type": "code",
   "execution_count": null,
   "metadata": {},
   "outputs": [],
   "source": [
    "HTML(params2html(i1.circuit, label = 'params'))"
   ]
  },
  {
   "cell_type": "code",
   "execution_count": null,
   "metadata": {},
   "outputs": [],
   "source": [
    "i1.setGainType ('vi')\n",
    "i1.setSimType('symbolic')\n",
    "i1.setDataType('matrix')\n",
    "i1.setSource('V1')\n",
    "i1.setDetector(['V_Out', 'V_0'])\n",
    "matrixResult = i1.execute()"
   ]
  },
  {
   "cell_type": "code",
   "execution_count": null,
   "metadata": {},
   "outputs": [],
   "source": [
    "htmlPage('Symbolic matrix representation')"
   ]
  },
  {
   "cell_type": "code",
   "execution_count": null,
   "metadata": {},
   "outputs": [],
   "source": [
    "HTML(matrices2html(matrixResult));"
   ]
  },
  {
   "cell_type": "code",
   "execution_count": null,
   "metadata": {},
   "outputs": [],
   "source": [
    "htmlPage('Poles and zeros')"
   ]
  },
  {
   "cell_type": "code",
   "execution_count": null,
   "metadata": {},
   "outputs": [],
   "source": [
    "i1.setSimType('numeric')\n",
    "i1.setGainType('gain')\n",
    "i1.setLGref('F1')\n",
    "i1.setDataType('poles')\n",
    "polesResult = i1.execute()\n",
    "HTML(pz2html(polesResult, label = 'tab_poles'))"
   ]
  },
  {
   "cell_type": "code",
   "execution_count": null,
   "metadata": {},
   "outputs": [],
   "source": [
    "i1.setDataType('zeros')\n",
    "zerosResult = i1.execute()\n",
    "HTML(pz2html(zerosResult, label = 'tab_zeros'))"
   ]
  },
  {
   "cell_type": "code",
   "execution_count": null,
   "metadata": {},
   "outputs": [],
   "source": [
    "i1.setDataType('pz')\n",
    "pzResult = i1.execute()\n",
    "HTML(pz2html(pzResult, label = 'tab_pz'))"
   ]
  },
  {
   "cell_type": "code",
   "execution_count": null,
   "metadata": {},
   "outputs": [],
   "source": [
    "htmlPage('Denominator, nominator, transfer function and step response')"
   ]
  },
  {
   "cell_type": "code",
   "execution_count": null,
   "metadata": {},
   "outputs": [],
   "source": [
    "i1.setDataType('denom')\n",
    "denom = i1.execute().denom\n",
    "HTML(eqn2html('D_s', denom))"
   ]
  },
  {
   "cell_type": "code",
   "execution_count": null,
   "metadata": {},
   "outputs": [],
   "source": [
    "i1.setDataType('numer')\n",
    "numer = i1.execute().numer\n",
    "HTML(eqn2html('N_s', numer))"
   ]
  },
  {
   "cell_type": "code",
   "execution_count": null,
   "metadata": {},
   "outputs": [],
   "source": [
    "i1.setDataType('laplace')\n",
    "result = i1.execute()\n",
    "Fs     = result.laplace\n",
    "HTML(eqn2html('F_s', Fs))"
   ]
  },
  {
   "cell_type": "code",
   "execution_count": null,
   "metadata": {},
   "outputs": [],
   "source": [
    "transferCoeffs      = coeffsTransfer(Fs)\n",
    "HTML(coeffsTransfer2html(transferCoeffs))"
   ]
  },
  {
   "cell_type": "code",
   "execution_count": null,
   "metadata": {
    "slideshow": {
     "slide_type": "slide"
    }
   },
   "outputs": [],
   "source": [
    "# Frequency-domain plots\n",
    "figdBmag = plotSweep('dBmag', 'dB magnitude', result, 1, 1e3, 100, sweepScale = 'k', funcType = 'dBmag', show = True)\n",
    "figMag   = plotSweep('mag', 'Magnitude', result, 1, 1e3, 100, sweepScale = 'k', funcType = 'mag', yUnits = '-', show = True)\n",
    "figPhase = plotSweep('phase', 'Phase', result, 1, 1e3, 100, sweepScale = 'k', funcType = 'phase', show = True)\n",
    "figDelay = plotSweep('delay', 'Delay', result, 1, 1e3, 100, sweepScale = 'k', yScale = 'u', funcType = 'delay', show = True)"
   ]
  },
  {
   "cell_type": "code",
   "execution_count": null,
   "metadata": {},
   "outputs": [],
   "source": [
    "# Polar plots\n",
    "figPolar   = plotSweep('polar', 'Polar' , result, 1, 1e3, 100, sweepScale = 'k', axisType = 'polar', funcType = 'mag', show = True)\n",
    "figdBpolar = plotSweep('dBpolar', 'dB polar' , result, 1, 1e3, 100, funcType = 'dBmag', sweepScale = 'k', axisType = 'polar', show = True)"
   ]
  },
  {
   "cell_type": "code",
   "execution_count": null,
   "metadata": {},
   "outputs": [],
   "source": [
    "i1.setGainType('asymptotic')\n",
    "asymptotic = i1.execute()\n",
    "i1.setGainType('loopgain')\n",
    "loopgain = i1.execute()\n",
    "# Let us calculate the phase margin\n",
    "print phaseMargin(loopgain.laplace)"
   ]
  },
  {
   "cell_type": "code",
   "execution_count": null,
   "metadata": {},
   "outputs": [],
   "source": [
    "# Let us plot the phase margin as a function of circuit parameters\n",
    "i1.setStepVar('I_D')\n",
    "i1.setStepMethod('log')\n",
    "i1.setStepNum(25)\n",
    "i1.setStepStart('10p')\n",
    "i1.setStepStop('1m')\n",
    "i1.stepOn()\n",
    "loopgainStepped = i1.execute()\n",
    "# Trace data for phase margin with C_ph = 2.95pF\n",
    "# x data is values of step parameter, y data is phase margin\n",
    "PM2p95 = [i1.stepList, phaseMargin(loopgainStepped.laplace)[0]]\n",
    "# Trace data for phase margin with C_ph = 1.5pF\n",
    "i1.defPar('C_ph', '1.5p')\n",
    "loopgainStepped_1p5 = i1.execute()\n",
    "# x data is values of step parameter, y data is phase margin\n",
    "PM1p5 = [i1.stepList, phaseMargin(loopgainStepped_1p5.laplace)[0]]\n",
    "plotData = {'$C_{ph}=2.95$p': PM2p95, '$C_{ph}=1.5$p': PM1p5}\n",
    "figPM = plot('PM', 'Phase margin versus $I_D$', 'semilogx', plotData, xName = '$' + sp.latex(i1.stepVar) + '$', xScale = 'u', xUnits = 'A', yName = 'Phase margin', yUnits = 'deg', show = True)"
   ]
  },
  {
   "cell_type": "code",
   "execution_count": null,
   "metadata": {},
   "outputs": [],
   "source": [
    "# Calculate the remaining transfers of the asysmptotic gain model\n",
    "i1.defPar('C_ph', '2.95p')\n",
    "i1.stepOff()\n",
    "i1.setGainType('servo')\n",
    "servo = i1.execute()\n",
    "i1.setGainType('direct')\n",
    "direct = i1.execute()"
   ]
  },
  {
   "cell_type": "code",
   "execution_count": null,
   "metadata": {},
   "outputs": [],
   "source": [
    "# Bode plots of the asymptotic-gain feedback model parameters\n",
    "figdBmagA = plotSweep('magA', 'dB magnitude feedback model', [result, asymptotic, loopgain, servo, direct], 1, 1e3, 100, funcType = 'dBmag', sweepScale = 'k', show = True)"
   ]
  },
  {
   "cell_type": "code",
   "execution_count": null,
   "metadata": {},
   "outputs": [],
   "source": [
    "i1.setDataType('step')\n",
    "i1.setGainType('gain')\n",
    "stepResult = i1.execute()\n",
    "a_t        = stepResult.stepResp\n",
    "HTML(eqn2html('a_t', a_t))"
   ]
  },
  {
   "cell_type": "code",
   "execution_count": null,
   "metadata": {},
   "outputs": [],
   "source": [
    "# Time-domain plot\n",
    "figStep = plotSweep('step', 'step response', stepResult, 0, 50, 100, sweepScale = 'u', yUnits = 'V', show = True)"
   ]
  },
  {
   "cell_type": "code",
   "execution_count": null,
   "metadata": {},
   "outputs": [],
   "source": [
    "i1.setGainType('gain')\n",
    "i1.setDataType('pz')\n",
    "figPZ = plotPZ('PZ', 'Poles and zeros', pzResult, xmin = -100, xscale = 'M', yscale = 'M', show = True)"
   ]
  },
  {
   "cell_type": "code",
   "execution_count": null,
   "metadata": {},
   "outputs": [],
   "source": [
    "figPZd = plotPZ('PZd', 'Dominant poles and zeros', pzResult, xmin = -100, xmax = 0, ymin = -50, ymax = 50, xscale = 'k', yscale = 'k', show = True)"
   ]
  },
  {
   "cell_type": "code",
   "execution_count": null,
   "metadata": {},
   "outputs": [],
   "source": [
    "# Plots with graphs of asymptotic-gain feedback model transfers\n",
    "i1.setGainType('gain')\n",
    "i1.setDataType('laplace')\n",
    "i1.setStepVar('I_D')\n",
    "i1.setStepMethod('log')\n",
    "i1.setStepNum(7)\n",
    "i1.setStepStart('1p')\n",
    "i1.setStepStop('1u')\n",
    "i1.stepOn() \n",
    "FsStepped = i1.execute()\n",
    "figdBs = plotSweep('dBs', 'dB magnitude step I_D', FsStepped, 1, 1e3, 100, funcType = 'dBmag', sweepScale = 'k', show = True)"
   ]
  },
  {
   "cell_type": "code",
   "execution_count": null,
   "metadata": {},
   "outputs": [],
   "source": [
    "# Root-locus plot\n",
    "i1.setDataType('poles')\n",
    "i1.setStepNum(200)\n",
    "polesStepped = i1.execute()\n",
    "figRL = plotPZ('RL', 'Root Locus I_D', polesStepped, xmin = -180, xmax = 20, ymin = -100, ymax = 100, xscale = 'k', yscale = 'k', show = True)"
   ]
  },
  {
   "cell_type": "code",
   "execution_count": null,
   "metadata": {},
   "outputs": [],
   "source": [
    "# Step responses as a function of I_D\n",
    "i1.setDataType('step')\n",
    "i1.setStepNum(7)\n",
    "a_tStepped = i1.execute()\n",
    "figStepped = plotSweep('stepped', 'step response versus $I_D$', a_tStepped, 0, 50, 100, sweepScale = 'u', yUnits = 'V', show=True)"
   ]
  },
  {
   "cell_type": "code",
   "execution_count": null,
   "metadata": {},
   "outputs": [],
   "source": [
    "htmlPage('Plots')\n",
    "fig2html(figdBmag, 600, label = 'figdBmag',  caption='dB magnitude plot of the PIVA transfer.')\n",
    "fig2html(figMag, 600, label = 'figMag', caption='Magnitude plot of the PIVA transfer.')\n",
    "fig2html(figPhase, 600, label = 'figPhase', caption='Phase plot of the PIVA transfer.')\n",
    "fig2html(figDelay, 600, label = 'figDelay', caption='Group delay of the PIVA transfer.')\n",
    "fig2html(figdBmagA, 600, label = 'figdBmagA', caption='Asymptotic-gain model parameter dB magnitude plots of the PIVA transfer.')\n",
    "fig2html(figPM, 600, label = 'figPM', caption='Phase margin versus drain current for different values of the phantom zero capacitance.')\n",
    "fig2html(figPolar, 600, label = 'figPolar', caption ='Polar plot of the PIVA transfer.')\n",
    "fig2html(figdBpolar, 600, label = 'figdBpolar', caption ='dB polar plot of the PIVA transfer.')\n",
    "fig2html(figStep, 600, label = 'figStep', caption='Unit step response of the PIVA.')\n",
    "fig2html(figStepped, 600, label = 'figStepped', caption='Unit step response of the PIVA versus $I_D$.')\n",
    "fig2html(figPZ, 600, label = 'figPZ', caption='Poles and zeros of the gain of the PIVA.')\n",
    "fig2html(figPZd,  600, label = 'figPZd', caption='Dominant poles of the gain of the PIVA.')\n",
    "fig2html(figdBs, 600, label = 'figdBs', caption='dB magnitude plot of the PIVA transfer for different values of the drain current.')\n",
    "fig2html(figRL, 600, label = 'figRL', caption='Poles of the gain for different values of the drain current.');"
   ]
  },
  {
   "cell_type": "code",
   "execution_count": 11,
   "metadata": {},
   "outputs": [
    {
     "ename": "SyntaxError",
     "evalue": "invalid syntax (<ipython-input-11-3174f54f8be8>, line 3)",
     "output_type": "error",
     "traceback": [
      "\u001b[0;36m  File \u001b[0;32m\"<ipython-input-11-3174f54f8be8>\"\u001b[0;36m, line \u001b[0;32m3\u001b[0m\n\u001b[0;31m    print '\\nTotal time: %3.1fs'%(t2-t1)\u001b[0m\n\u001b[0m                               ^\u001b[0m\n\u001b[0;31mSyntaxError\u001b[0m\u001b[0;31m:\u001b[0m invalid syntax\n"
     ]
    }
   ],
   "source": [
    "links2html()\n",
    "t2=time()\n",
    "print '\\nTotal time: %3.1fs'%(t2-t1)"
   ]
  },
  {
   "cell_type": "code",
   "execution_count": null,
   "metadata": {},
   "outputs": [],
   "source": []
  }
 ],
 "metadata": {
  "kernelspec": {
   "display_name": "Python 3",
   "language": "python",
   "name": "python3"
  },
  "language_info": {
   "codemirror_mode": {
    "name": "ipython",
    "version": 3
   },
   "file_extension": ".py",
   "mimetype": "text/x-python",
   "name": "python",
   "nbconvert_exporter": "python",
   "pygments_lexer": "ipython3",
   "version": "3.7.4"
  }
 },
 "nbformat": 4,
 "nbformat_minor": 4
}
