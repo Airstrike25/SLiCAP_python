{
 "cells": [
  {
   "cell_type": "code",
   "execution_count": 1,
   "metadata": {},
   "outputs": [
    {
     "ename": "SyntaxError",
     "evalue": "invalid syntax (SLiCAP.py, line 118)",
     "output_type": "error",
     "traceback": [
      "Traceback \u001b[0;36m(most recent call last)\u001b[0m:\n",
      "  File \u001b[1;32m\"/usr/lib/python3/dist-packages/IPython/core/interactiveshell.py\"\u001b[0m, line \u001b[1;32m3331\u001b[0m, in \u001b[1;35mrun_code\u001b[0m\n    exec(code_obj, self.user_global_ns, self.user_ns)\n",
      "  File \u001b[1;32m\"<ipython-input-1-951f5d45de6a>\"\u001b[0m, line \u001b[1;32m1\u001b[0m, in \u001b[1;35m<module>\u001b[0m\n    from SLiCAPnotebook import *\n",
      "\u001b[0;36m  File \u001b[0;32m\"/media/anton/DATA/SLiCAP/SLiCAP_github/SLiCAP_python/SLiCAPnotebook.py\"\u001b[0;36m, line \u001b[0;32m17\u001b[0;36m, in \u001b[0;35m<module>\u001b[0;36m\u001b[0m\n\u001b[0;31m    from SLiCAP import *\u001b[0m\n",
      "\u001b[0;36m  File \u001b[0;32m\"/media/anton/DATA/SLiCAP/SLiCAP_github/SLiCAP_python/SLiCAP.py\"\u001b[0;36m, line \u001b[0;32m118\u001b[0m\n\u001b[0;31m    print \"Error: could not open: '%s'.\"%(ini.circuitPath + fileName)\u001b[0m\n\u001b[0m          ^\u001b[0m\n\u001b[0;31mSyntaxError\u001b[0m\u001b[0;31m:\u001b[0m invalid syntax\n"
     ]
    }
   ],
   "source": [
    "from SLiCAPnotebook import *\n",
    "# Always run SLiCAP from the project directory, this will define the correct path settings.\n",
    "t1=time()\n",
    "\n",
    "prj = initProject('My first RC network') # Sets all the paths and creates the HTML main index page.\n",
    "\n",
    "fileName = 'myFirstRCnetwork.cir'\n",
    "i1 = instruction()                       # Creates an instance of an instruction object\n",
    "i1.setCircuit(fileName)                # Checks and defines the local circuit object and\n",
    "                                         # sets the index page to the circuit index page\n",
    "# We will generate a HTML report (not from within Jupyter). Let us first create an empty HTML page:\n",
    "htmlPage('Circuit data')\n",
    "# Put a header on this page and display the circuit diagram on it.\n",
    "head2html('Circuit diagram')\n",
    "img2html('myFirstRCnetwork.svg', 250, caption = 'Circuit diagram of the RC network.', label = 'figRCnetwork')\n",
    "# You can display SVG type images in this notebook, but they cannot be scaled. Her with simpy display the \n",
    "# .png type image.\n",
    "Image('img/myFirstRCnetwork_asc.png')"
   ]
  },
  {
   "cell_type": "code",
   "execution_count": null,
   "metadata": {},
   "outputs": [],
   "source": [
    "HTML(netlist2html(fileName, label = 'netlist')) # This displays the netlist"
   ]
  },
  {
   "cell_type": "code",
   "execution_count": null,
   "metadata": {},
   "outputs": [],
   "source": [
    "HTML(elementData2html(i1.circuit, label = 'elementData')) # This shows the data of the expanded netlist"
   ]
  },
  {
   "cell_type": "code",
   "execution_count": null,
   "metadata": {},
   "outputs": [],
   "source": [
    "HTML(params2html(i1.circuit, label = 'params')) # This displays the circuit parameters"
   ]
  },
  {
   "cell_type": "code",
   "execution_count": null,
   "metadata": {},
   "outputs": [],
   "source": [
    "# Let us define an instruction to display the symbolic MNA matrix equation.\n",
    "# This is done by defining attributes of the instruction object 'i1'\n",
    "i1.setSimType('symbolic');\n",
    "i1.setGainType('vi');\n",
    "i1.setDataType('matrix');"
   ]
  },
  {
   "cell_type": "code",
   "execution_count": null,
   "metadata": {},
   "outputs": [],
   "source": [
    "# We execute the instruction and assign the result to a variable 'MNA'\n",
    "MNA = i1.execute();"
   ]
  },
  {
   "cell_type": "code",
   "execution_count": null,
   "metadata": {},
   "outputs": [],
   "source": [
    "# We will put the instruction on a new HTML page and display it in this notebook\n",
    "htmlPage('Matrix equations')\n",
    "# Let us put some explaining text in the report:\n",
    "text2html('The MNA matrix equation for the RC network is:')\n",
    "HTML(matrices2html(MNA, label = 'MNA', labelText = 'MNA equation of the network'))"
   ]
  },
  {
   "cell_type": "code",
   "execution_count": null,
   "metadata": {},
   "outputs": [],
   "source": [
    "# The variables in this equation are available in the variable that holds \n",
    "# the result of the execution:\n",
    "#\n",
    "# 1. The vector 'Iv' with independent variables:\n",
    "text2html('The vector with independent variables is:')\n",
    "HTML(eqn2html('I_v', MNA.Iv, label = 'Iv', labelText = 'Vector with independent variables'))"
   ]
  },
  {
   "cell_type": "code",
   "execution_count": 2,
   "metadata": {},
   "outputs": [
    {
     "ename": "NameError",
     "evalue": "name 'text2html' is not defined",
     "output_type": "error",
     "traceback": [
      "\u001b[0;31m---------------------------------------------------------------------------\u001b[0m",
      "\u001b[0;31mNameError\u001b[0m                                 Traceback (most recent call last)",
      "\u001b[0;32m<ipython-input-2-e67c528f2d32>\u001b[0m in \u001b[0;36m<module>\u001b[0;34m\u001b[0m\n\u001b[1;32m      1\u001b[0m \u001b[0;31m# 2. The matrix 'M':\u001b[0m\u001b[0;34m\u001b[0m\u001b[0;34m\u001b[0m\u001b[0;34m\u001b[0m\u001b[0m\n\u001b[0;32m----> 2\u001b[0;31m \u001b[0mtext2html\u001b[0m\u001b[0;34m(\u001b[0m\u001b[0;34m'The MNA matrix is:'\u001b[0m\u001b[0;34m)\u001b[0m\u001b[0;34m\u001b[0m\u001b[0;34m\u001b[0m\u001b[0m\n\u001b[0m\u001b[1;32m      3\u001b[0m \u001b[0mHTML\u001b[0m\u001b[0;34m(\u001b[0m\u001b[0meqn2html\u001b[0m\u001b[0;34m(\u001b[0m\u001b[0;34m'M'\u001b[0m\u001b[0;34m,\u001b[0m \u001b[0mMNA\u001b[0m\u001b[0;34m.\u001b[0m\u001b[0mM\u001b[0m\u001b[0;34m,\u001b[0m \u001b[0mlabel\u001b[0m \u001b[0;34m=\u001b[0m \u001b[0;34m'M'\u001b[0m\u001b[0;34m,\u001b[0m \u001b[0mlabelText\u001b[0m \u001b[0;34m=\u001b[0m \u001b[0;34m'MNA matrix'\u001b[0m\u001b[0;34m)\u001b[0m\u001b[0;34m)\u001b[0m\u001b[0;34m\u001b[0m\u001b[0;34m\u001b[0m\u001b[0m\n",
      "\u001b[0;31mNameError\u001b[0m: name 'text2html' is not defined"
     ]
    }
   ],
   "source": [
    "# 2. The matrix 'M':\n",
    "text2html('The MNA matrix is:')\n",
    "HTML(eqn2html('M', MNA.M, label = 'M', labelText = 'MNA matrix'))"
   ]
  },
  {
   "cell_type": "code",
   "execution_count": null,
   "metadata": {},
   "outputs": [],
   "source": [
    "# 3. The vercor wit dependent variables 'Dv':\n",
    "text2html('The vector with dependent variables is:')\n",
    "HTML(eqn2html('D_v', MNA.Dv, label = 'Dv', labelText = 'Vector with dependent variables'))"
   ]
  },
  {
   "cell_type": "code",
   "execution_count": null,
   "metadata": {},
   "outputs": [],
   "source": [
    "# Let us now evaluate the transfer function of this network.\n",
    "# To this end we need to define a signal source and a detector.\n",
    "# Both the source and the detector are attributes of the instruction object:\n",
    "i1.setSource('V1')    # 'V1' is the identifier of the independent source that we assign as signal source\n",
    "i1.setDetector('V_out') # 'V_out' is the voltage at node 'out' with respect to ground (node '0')\n",
    "# The transfer from source to load is called 'gain'. Later we will discuss more transfer types.\n",
    "i1.setGainType('gain')\n",
    "# The data that we would like to obtain is the Laplace transfer of the gain. SLiCAP has many different \n",
    "# data types. The data type for an instruction is also an attribute of the instruction object:\n",
    "i1.setDataType('laplace')\n",
    "# SLiCAP performs symbolic calculations, even when the data is numeric. In those case SLiCAP calculates\n",
    "# with rationals. Only in a limited number of cases SLiCAP calculates with floats.\n",
    "# Numeric values or combined numeric/symbolic expressions can be assigned to circuit parameters. In cases\n",
    "# in which the simulation type is set to 'numeric' such definitions are substituted recursively.\n",
    "#\n",
    "# Let us display the transfer symbolically. In this case we have no parameters defined, so 'numeric' will\n",
    "# give the same answer as 'symbolic'.\n",
    "i1.setSimType('symbolic')\n",
    "# Let us execute the (modified) instruction 'i1' and assign the result to the variable gain:\n",
    "gain = i1.execute()\n",
    "# The laplace transform can now be found in the attribute 'laplace' of 'gain'.\n",
    "HTML(eqn2html('V_out/V_1', gain.laplace, label = 'gainLaplace', labelText = 'Laplace transfer function'))"
   ]
  },
  {
   "cell_type": "code",
   "execution_count": null,
   "metadata": {},
   "outputs": [],
   "source": [
    "# The parameters 'R' and 'C' stem from the circuit, while 's' is defined as the Laplace variable:\n",
    "print(ini.Laplace)"
   ]
  },
  {
   "cell_type": "code",
   "execution_count": null,
   "metadata": {},
   "outputs": [],
   "source": [
    "# SLiCAP has a lot of predefined plots. The results of an analysis with data type 'laplace' can\n",
    "# graphically be represented with:\n",
    "# 1. magnitude plots versus frequency\n",
    "# 2. dB magnitude plots versus frequency\n",
    "# 3. phase plots versus frequency\n",
    "# 4. (group) delay plots versus frequency\n",
    "# For plotting we need numeric values:\n",
    "i1.setSimType('numeric') \n",
    "numGain = i1.execute() \n",
    "# We will create a new HTML page for the plots\n",
    "htmlPage('Plots')"
   ]
  },
  {
   "cell_type": "code",
   "execution_count": null,
   "metadata": {},
   "outputs": [],
   "source": [
    "head2html('Frequency domain plots')\n",
    "figMag = plotSweep('RCmag', 'Magnitude characteristic', numGain, 10, '100k', 100, yUnits = '-', show = True)"
   ]
  },
  {
   "cell_type": "code",
   "execution_count": null,
   "metadata": {},
   "outputs": [],
   "source": [
    "# This will put the figure on the HTML page with a width of 800 pixels, a caption and a label:\n",
    "fig2html(figMag, 600, caption = 'Magnitude characteristic of the RC network.', label = 'figMag');"
   ]
  },
  {
   "cell_type": "code",
   "execution_count": null,
   "metadata": {},
   "outputs": [],
   "source": [
    "figPol = plotSweep('RCpolar', 'Polar plot', numGain, 10, '100k', 100, axisType = 'polar', show = True)\n",
    "fig2html(figPol, 600, caption = 'Polar plot of the transfer of the RC network.', label = 'figPolar')"
   ]
  },
  {
   "cell_type": "code",
   "execution_count": null,
   "metadata": {},
   "outputs": [],
   "source": [
    "figdBmag = plotSweep('RCdBmag', 'dB magnitude characteristic', numGain, 10, '100k', 100, funcType = 'dBmag', show = True)"
   ]
  },
  {
   "cell_type": "code",
   "execution_count": null,
   "metadata": {},
   "outputs": [],
   "source": [
    "fig2html(figdBmag, 600, caption = 'dB Magnitude characteristic of the RC network.', label = 'figdBmag');"
   ]
  },
  {
   "cell_type": "code",
   "execution_count": null,
   "metadata": {},
   "outputs": [],
   "source": [
    "figPhase = plotSweep('RCphase', 'Phase characteristic', numGain, 10, '100k', 100, funcType = 'phase', show = True)"
   ]
  },
  {
   "cell_type": "code",
   "execution_count": null,
   "metadata": {},
   "outputs": [],
   "source": [
    "fig2html(figPhase, 600, caption = 'Phase characteristic of the RC network.', label = 'figPhase');"
   ]
  },
  {
   "cell_type": "code",
   "execution_count": null,
   "metadata": {},
   "outputs": [],
   "source": [
    "# We will display the delay in 'us'\n",
    "figDelay = plotSweep('RCdelay', 'Group delay characteristic', numGain, 10, '100k', 100, yScale = 'u', funcType = 'delay')"
   ]
  },
  {
   "cell_type": "code",
   "execution_count": null,
   "metadata": {},
   "outputs": [],
   "source": [
    "fig2html(figDelay, 600, caption = 'Group delay characteristic of the RC network.', label = 'figDelay');"
   ]
  },
  {
   "cell_type": "code",
   "execution_count": null,
   "metadata": {},
   "outputs": [],
   "source": [
    "# With data type: 'pz' we can calculate the DC value of the gain and the poles and the zeros.\n",
    "# This data type requires numeric component values.\n",
    "i1.setDataType('pz')\n",
    "pzGain = i1.execute()"
   ]
  },
  {
   "cell_type": "code",
   "execution_count": null,
   "metadata": {},
   "outputs": [],
   "source": [
    "# We will create a new HTML page for displaying the results and display them also in this notebook.\n",
    "htmlPage('Poles and zeros')\n",
    "HTML(pz2html(pzGain, label = 'PZlist', labelText = 'Poles and zeros of the network'))"
   ]
  },
  {
   "cell_type": "code",
   "execution_count": null,
   "metadata": {},
   "outputs": [],
   "source": [
    "# Let us also add a pole-zero plot of these results:\n",
    "head2html(\"Complex frequency domain plots\")\n",
    "figPZ = plotPZ('PZ', 'Poles and zeros of the RC network', pzGain, show = True)"
   ]
  },
  {
   "cell_type": "code",
   "execution_count": null,
   "metadata": {},
   "outputs": [],
   "source": [
    "# You can also set the range and the units of the axes of this plot:\n",
    "# We will redefine the figure object 'figPZ'\n",
    "figPZ = plotPZ('PZ', 'Poles and zeros of the RC network', pzGain, xmin = -1.9, xmax = 0.1, ymin = -1, ymax = 1, xscale = 'k', yscale = 'k', show = True)\n",
    "fig2html(figPZ, 600, caption = 'Poles and zeros of the RC network.', label = 'figPZ');"
   ]
  },
  {
   "cell_type": "code",
   "execution_count": null,
   "metadata": {},
   "outputs": [],
   "source": [
    "# The data types 'poles' and 'zeros' can be used to calculate the poles and the zeros separately. \n",
    "# The difference with data type 'pz' is that the latter one cancels poles and zeros that coincide\n",
    "# withing the display accuracy (ini.disp) and calculated the zero-frequency value of the transfer.\n",
    "# Displaying the result of all three data types gives you the DC gain and the non observable poles."
   ]
  },
  {
   "cell_type": "code",
   "execution_count": null,
   "metadata": {},
   "outputs": [],
   "source": [
    "# With data types 'impulse' and 'step' you can calculate the impulse response and the step response\n",
    "# of the network, respctively. These responses are obtained from the inverse Laplace transform of\n",
    "# the transfer function (impulse response) or the transfer function multiplied with 1/ini.Laplace.\n",
    "i1.setDataType('step')\n",
    "numStep = i1.execute()\n",
    "figStep = plotSweep('step', 'Unit step response', numStep, 0, 1, 50, sweepScale='m', show = True)"
   ]
  },
  {
   "cell_type": "code",
   "execution_count": null,
   "metadata": {},
   "outputs": [],
   "source": [
    "# Let us put this plot on the page with the plots. You can get a list with page names by typing: 'ini.htmlPages'\n",
    "ini.htmlPage = 'My-first-RC-network_Plots.html'\n",
    "head2html('Time domain plots')\n",
    "fig2html(figStep, 600, caption = 'Unit step response of the RC network.', label = 'figStep');"
   ]
  },
  {
   "cell_type": "code",
   "execution_count": null,
   "metadata": {},
   "outputs": [],
   "source": [
    "# SLiCAP is developed for setting up and solving circuit design equations\n",
    "# In the following section we will write the values of the circuit\n",
    "# components as a function of the setting time to n bit.\n",
    "# The procedure is as follows:\n",
    "# 1. Get a symbolic expression of the output voltage as a function of time\n",
    "# 2. Get a symbolic expression for the settling error delta_t as function of time\n",
    "# 3. Find the settling tau_s by solving: delta_t = 2^(-n)\n",
    "# 4. Find the design equations for  the component values:\n",
    "#    a. Write the resistance 'R_R1' as a function of 'n', 'tau_s' and 'C'\n",
    "#    b. Write the capacitance 'C_R1' as a function of 'n', 'tau_s' and 'R'\n",
    "#\n",
    "# Let us first create a new page for the above:\n",
    "htmlPage('Design equations for $R$ and $C$', label = 'desEq')\n",
    "head2html('The unit step response')\n",
    "# Step 1:\n",
    "i1.setSimType('symbolic')\n",
    "i1.setDataType('step')\n",
    "symStep = i1.execute()\n",
    "a_t     = sp.Symbol('a_t')\n",
    "HTML(eqn2html(a_t, symStep.stepResp, label = 'a_t', labelText = 'Symbolic expression of the unit step response'))"
   ]
  },
  {
   "cell_type": "code",
   "execution_count": null,
   "metadata": {},
   "outputs": [],
   "source": [
    "# Step 2:\n",
    "head2html(\"The settling error versus time\")\n",
    "t             = sp.Symbol('t')\n",
    "settlingError = sp.limit(symStep.stepResp, t, 'oo') - symStep.stepResp\n",
    "epsilon_t     = sp.Symbol('epsilon_t')\n",
    "HTML(eqn2html(epsilon_t, settlingError, label = 'epsilon_t', labelText = 'Symbolic expression of the settling error versus time'))"
   ]
  },
  {
   "cell_type": "code",
   "execution_count": null,
   "metadata": {},
   "outputs": [],
   "source": [
    "# Step 3:\n",
    "head2html(\"The n-bit settling time\")\n",
    "n             = sp.Symbol('n', positive = True)\n",
    "settlingTime  = sp.solve(settlingError - 2**(-n), t)[0] # In this case there is only one solution\n",
    "# Redefine all the parameters in 'settlingTime' as 'positive', this gives proper conditions for the solvers.\n",
    "settlingTime  = assumePosParams(settlingTime)\n",
    "tau_s         = sp.Symbol('tau_s')\n",
    "HTML(eqn2html(tau_s, settlingTime, label = 'tau_s', labelText = 'Symbolic expression of the settling time'))"
   ]
  },
  {
   "cell_type": "code",
   "execution_count": null,
   "metadata": {},
   "outputs": [],
   "source": [
    "# Step 4a:\n",
    "head2html(\"The design equation for $R$\")\n",
    "R   = sp.Symbol('R', positive = True)\n",
    "RR1 = sp.solve(settlingTime - tau_s, R)[0] # In this case there is only one solution\n",
    "HTML(eqn2html(R, RR1, label = 'RR1', labelText = 'Design equation for $R$'))"
   ]
  },
  {
   "cell_type": "code",
   "execution_count": null,
   "metadata": {},
   "outputs": [],
   "source": [
    "# Step 4b:\n",
    "head2html(\"The design equation for $C$\")\n",
    "C   = sp.Symbol('C', positive = True)\n",
    "CC1 = sp.solve(settlingTime - tau_s, C)[0] # In this case there is only one solution\n",
    "HTML(eqn2html(C, CC1, label = 'CC1', labelText = 'Design equation for $C$'))"
   ]
  },
  {
   "cell_type": "code",
   "execution_count": null,
   "metadata": {},
   "outputs": [],
   "source": [
    "head2html(\"Numeric example.\")\n",
    "text2html(\"We will determine R for the case in which we need 10 bit settling within 100ns with a capacitance C=10pF. We obtain:\")\n",
    "Rvalue = sp.N(RR1.subs([(tau_s, 100e-9), (n, 10), (C, 1e-11)]))\n",
    "HTML(eqn2html(R, Rvalue, label = 'Rvalue', labelText = 'Numeric value of $R$'))"
   ]
  },
  {
   "cell_type": "code",
   "execution_count": null,
   "metadata": {},
   "outputs": [],
   "source": [
    "# This will create an HTML page with links to all labeled items.\n",
    "links2html();"
   ]
  },
  {
   "cell_type": "code",
   "execution_count": null,
   "metadata": {},
   "outputs": [],
   "source": [
    "t2 = time()\n",
    "print \"Total time: %3.1fs\"%(t2-t1)"
   ]
  }
 ],
 "metadata": {
  "kernelspec": {
   "display_name": "Python 3",
   "language": "python",
   "name": "python3"
  },
  "language_info": {
   "codemirror_mode": {
    "name": "ipython",
    "version": 3
   },
   "file_extension": ".py",
   "mimetype": "text/x-python",
   "name": "python",
   "nbconvert_exporter": "python",
   "pygments_lexer": "ipython3",
   "version": "3.8.2"
  }
 },
 "nbformat": 4,
 "nbformat_minor": 4
}
