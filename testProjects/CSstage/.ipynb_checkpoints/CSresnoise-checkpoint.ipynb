{
 "cells": [
  {
   "cell_type": "code",
   "execution_count": null,
   "metadata": {},
   "outputs": [],
   "source": [
    "from SLiCAPnotebook import *\n",
    "# Always run SLiCAP from the project directory, this will use the correct path settings.\n",
    "t1=time()"
   ]
  },
  {
   "cell_type": "code",
   "execution_count": null,
   "metadata": {},
   "outputs": [],
   "source": [
    "prj = initProject('CS stage noise with resistive source')\n",
    "fileName = 'CSresNoise.cir'\n",
    "i1 = instruction()\n",
    "i1.checkCircuit(fileName)\n",
    "SVG(filename = img2html('CSresNoise.svg', 800))"
   ]
  },
  {
   "cell_type": "code",
   "execution_count": null,
   "metadata": {},
   "outputs": [],
   "source": [
    "HTML(netlist2html(fileName))"
   ]
  },
  {
   "cell_type": "code",
   "execution_count": null,
   "metadata": {},
   "outputs": [],
   "source": [
    "# Set value of 1/f noise to zero and define drain current at critical inversion\n",
    "i1.simType = 'numeric'\n",
    "i1.defPar('KF_X1', 0)\n",
    "I_D     = i1.getParValue('ID')\n",
    "IC      = i1.getParValue('IC_X1')\n",
    "IC_CRIT = i1.getParValue('IC_CRIT_X1')\n",
    "I_D     = I_D*IC_CRIT/IC\n",
    "i1.defPar('ID', I_D)"
   ]
  },
  {
   "cell_type": "code",
   "execution_count": null,
   "metadata": {},
   "outputs": [],
   "source": [
    "HTML(elementData2html(i1.circuit))"
   ]
  },
  {
   "cell_type": "code",
   "execution_count": null,
   "metadata": {},
   "outputs": [],
   "source": [
    "HTML(params2html(i1.circuit))"
   ]
  },
  {
   "cell_type": "code",
   "execution_count": null,
   "metadata": {},
   "outputs": [],
   "source": [
    "R_N   = i1.getParValue('R_N_X1')\n",
    "R_s   = i1.getParValue('R_s')\n",
    "f_T   = i1.getParValue('f_T_X1')\n",
    "g_m   = i1.getParValue('g_m_X1')\n",
    "Width = i1.getParValue('W')"
   ]
  },
  {
   "cell_type": "code",
   "execution_count": null,
   "metadata": {},
   "outputs": [],
   "source": [
    "htmlPage('Noise analysis')"
   ]
  },
  {
   "cell_type": "code",
   "execution_count": null,
   "metadata": {},
   "outputs": [],
   "source": [
    "i1.source   = 'V1'\n",
    "i1.detector = 'V_out'\n",
    "i1.gainType = 'vi'\n",
    "i1.dataType = 'noise'\n",
    "i1.simType  = 'numeric'\n",
    "noiseResult = i1.execute()\n",
    "plotNoise('Inoise', 'Source-referred noise spectrum', noiseResult, 1e8, 1e11, 100, noise = 'inoise', show=True)"
   ]
  },
  {
   "cell_type": "code",
   "execution_count": null,
   "metadata": {},
   "outputs": [],
   "source": [
    "# Calculate the noise figure at critical inversion and the given width\n",
    "totInoise    = rmsNoise(noiseResult, 'inoise', 1e9, 5e9)\n",
    "totInoiseSrc = rmsNoise(noiseResult, 'inoise', 1e9, 5e9, source=noiseResult.source)\n",
    "HTML(noise2html(noiseResult))"
   ]
  },
  {
   "cell_type": "code",
   "execution_count": null,
   "metadata": {},
   "outputs": [],
   "source": [
    "NF           = 20*sp.log(totInoise/totInoiseSrc)/sp.log(10)\n",
    "print(\"The noise figure equals: %s [dB].\"%(sp.N(NF, ini.disp)))"
   ]
  },
  {
   "cell_type": "code",
   "execution_count": null,
   "metadata": {},
   "outputs": [],
   "source": [
    "# We will now calculate the width W at which we will have the best noise performance.\n",
    "# Define the variable 'W' in the notebook environment\n",
    "W               = sp.Symbol('W')\n",
    "i1.delPar('W')        # delete the numeric definition of the width\n",
    "# We will keep the inversion coefficient at critical inversion, hence we scale the\n",
    "# current with the width.\n",
    "# Please know that not scaling the current results in expressions that cannot be integrated symbolically.\n",
    "# We will then need numeric methods for determination of the optimum width.\n",
    "i1.defPar('ID', I_D*W/Width)\n",
    "noiseW = i1.execute() # calculate the noise spectra as a function of W and f\n",
    "# Calculate the noise figure as a function of W over the frequency range of interest\n",
    "fmin = sp.Symbol('fmin')\n",
    "fmax = sp.Symbol('fmax')\n",
    "RMSnoiseW       = rmsNoise(noiseW, 'inoise', fmin, fmax)\n",
    "RMSnoiseWsource = rmsNoise(noiseW, 'inoise', fmin, fmax, noiseW.source)\n",
    "# Remove the square root before solving\n",
    "NF_W            = (RMSnoiseW/RMSnoiseWsource)**2\n",
    "print NF_W\n",
    "# Find the optimum noise by solving d(NF_W)/dW with sympy (sp)\n",
    "Wopt            = sp.solve(sp.diff(NF_W, W) ,W)\n",
    "#print Wopt\n",
    "# The sympy solve function returns a list with solutions.\n",
    "try:\n",
    "    Wopt = Wopt[0].subs([(fmin, 1e9), (fmax, 5e9)])\n",
    "    print Wopt\n",
    "except:\n",
    "    pass\n",
    "print Wopt"
   ]
  },
  {
   "cell_type": "code",
   "execution_count": null,
   "metadata": {},
   "outputs": [],
   "source": [
    "HTML('$' + sp.latex(roundN(sp.expand(NF_W), numeric=True)) + '$')"
   ]
  },
  {
   "cell_type": "code",
   "execution_count": null,
   "metadata": {},
   "outputs": [],
   "source": [
    "fw = func()\n",
    "fw.expr = 10*sp.log(NF_W)/sp.log(10)\n",
    "fw.xVar = W\n",
    "fw.xscale = 'u'\n",
    "fw.yscale = ''\n",
    "fw.xunits = 'm'\n",
    "fw.ylabel = 'NF'\n",
    "fw.yunits = 'dB'\n",
    "fw.fname  = 'Noise figure'\n",
    "plotFunction('NF', 'Noise figure versus width', fw, 10, 100, 50, show = True)\n",
    "t2 = time()\n",
    "print t2-t1, 's'"
   ]
  }
 ],
 "metadata": {
  "kernelspec": {
   "display_name": "Python 2",
   "language": "python",
   "name": "python2"
  },
  "language_info": {
   "codemirror_mode": {
    "name": "ipython",
    "version": 2
   },
   "file_extension": ".py",
   "mimetype": "text/x-python",
   "name": "python",
   "nbconvert_exporter": "python",
   "pygments_lexer": "ipython2",
   "version": "2.7.17"
  }
 },
 "nbformat": 4,
 "nbformat_minor": 2
}
